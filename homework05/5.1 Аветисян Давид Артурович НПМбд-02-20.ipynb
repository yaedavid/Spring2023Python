{
 "cells": [
  {
   "cell_type": "code",
   "execution_count": 1,
   "id": "60e1fc2e",
   "metadata": {},
   "outputs": [
    {
     "name": "stdin",
     "output_type": "stream",
     "text": [
      " 1 2 3 4 5\n"
     ]
    },
    {
     "name": "stdout",
     "output_type": "stream",
     "text": [
      "1 3 5\n"
     ]
    }
   ],
   "source": [
    "# Задание 1\n",
    "\n",
    "print(' '.join(input().split()[0::2]))"
   ]
  },
  {
   "cell_type": "code",
   "execution_count": 2,
   "id": "3483c351",
   "metadata": {},
   "outputs": [
    {
     "name": "stdin",
     "output_type": "stream",
     "text": [
      " 1 2 3 2 1\n"
     ]
    },
    {
     "name": "stdout",
     "output_type": "stream",
     "text": [
      "3 2\n"
     ]
    }
   ],
   "source": [
    "# Задание 2\n",
    "\n",
    "a = input().split()\n",
    "print(max(a), a.index(max(a)))"
   ]
  },
  {
   "cell_type": "code",
   "execution_count": 3,
   "id": "510777b2",
   "metadata": {},
   "outputs": [
    {
     "name": "stdin",
     "output_type": "stream",
     "text": [
      " 1 2 3 4 5\n"
     ]
    },
    {
     "name": "stdout",
     "output_type": "stream",
     "text": [
      "5 4 3 2 1\n"
     ]
    }
   ],
   "source": [
    "# Задание 3\n",
    "\n",
    "print(' '.join(input().split()[::-1]))"
   ]
  },
  {
   "cell_type": "code",
   "execution_count": 4,
   "id": "6f72b4b8",
   "metadata": {},
   "outputs": [
    {
     "name": "stdin",
     "output_type": "stream",
     "text": [
      " 1 2 3 4 5\n"
     ]
    },
    {
     "name": "stdout",
     "output_type": "stream",
     "text": [
      "2 1 4 3 5\n"
     ]
    }
   ],
   "source": [
    "# Задание 4\n",
    "\n",
    "a = input().split()\n",
    "a[0:len(a)-1:2], a[1::2] = a[1::2], a[0:len(a)-1:2]\n",
    "print(' '.join(a))"
   ]
  },
  {
   "cell_type": "code",
   "execution_count": 5,
   "id": "da359be2",
   "metadata": {},
   "outputs": [
    {
     "name": "stdin",
     "output_type": "stream",
     "text": [
      " 1 2 3 4 5\n"
     ]
    },
    {
     "name": "stdout",
     "output_type": "stream",
     "text": [
      "5 1 2 3 4\n"
     ]
    }
   ],
   "source": [
    "# Задание 5\n",
    "\n",
    "a = input().split()\n",
    "print(' '.join([a[len(a)-1]] + a[:len(a)-1]))"
   ]
  },
  {
   "cell_type": "code",
   "execution_count": 6,
   "id": "0542e5bb",
   "metadata": {},
   "outputs": [
    {
     "name": "stdin",
     "output_type": "stream",
     "text": [
      " 7 6 5 4 3 2 1\n",
      " 2\n"
     ]
    },
    {
     "name": "stdout",
     "output_type": "stream",
     "text": [
      "7 6 4 3 2 1\n"
     ]
    }
   ],
   "source": [
    "# Задание 6\n",
    "\n",
    "a, n = input().split(), int(input())\n",
    "a.remove(a[n])\n",
    "print(' '.join(a))"
   ]
  },
  {
   "cell_type": "code",
   "execution_count": 7,
   "id": "fbb8a715",
   "metadata": {},
   "outputs": [
    {
     "name": "stdin",
     "output_type": "stream",
     "text": [
      " 7 6 5 4 3 2 1\n",
      " 2 0\n"
     ]
    },
    {
     "name": "stdout",
     "output_type": "stream",
     "text": [
      "7 6 0 5 4 3 2 1\n"
     ]
    }
   ],
   "source": [
    "# Задание 7\n",
    "\n",
    "a = input().split()\n",
    "n, elem = map(int, input().split())\n",
    "print(' '.join(a[:n] + [f\"{elem}\"] + a[n:]))"
   ]
  },
  {
   "cell_type": "code",
   "execution_count": 8,
   "id": "7950a05d",
   "metadata": {},
   "outputs": [
    {
     "name": "stdin",
     "output_type": "stream",
     "text": [
      " 5 3 7 4 6\n",
      " 3\n"
     ]
    },
    {
     "name": "stdout",
     "output_type": "stream",
     "text": [
      "7 4 6 5 3\n"
     ]
    }
   ],
   "source": [
    "# Задание 8\n",
    "\n",
    "a, n = input().split(), int(input())\n",
    "print(' '.join(a[n-1:] + a[:n-1]))"
   ]
  },
  {
   "cell_type": "code",
   "execution_count": null,
   "id": "63787e3f-7949-40bf-9952-149849a4c315",
   "metadata": {},
   "outputs": [],
   "source": []
  }
 ],
 "metadata": {
  "kernelspec": {
   "display_name": "Python 3 (ipykernel)",
   "language": "python",
   "name": "python3"
  },
  "language_info": {
   "codemirror_mode": {
    "name": "ipython",
    "version": 3
   },
   "file_extension": ".py",
   "mimetype": "text/x-python",
   "name": "python",
   "nbconvert_exporter": "python",
   "pygments_lexer": "ipython3",
   "version": "3.11.3"
  }
 },
 "nbformat": 4,
 "nbformat_minor": 5
}
