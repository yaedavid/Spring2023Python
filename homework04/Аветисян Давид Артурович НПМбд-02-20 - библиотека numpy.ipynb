{
 "cells": [
  {
   "cell_type": "markdown",
   "metadata": {},
   "source": [
    "## 4-е домашнее задание - Библиотека numpy\n",
    "## Аветисян Давид Артурович НПМбд-02-20\n",
    "\n",
    "Подпишите этот блокнот: укажите ФИО и номер группы. Выполненное задание загрузите в свой репозиторий «<b>Spring2023Python</b>» в github в папку \"<b>homework04</b>\".  \n",
    "\n",
    "Перед выполнением этого домашнего задания полезно прочитать про возможности и основные методы библиотеки numpy:  \n",
    "http://acm.mipt.ru/twiki/bin/view/Cintro/PythonNumpy  \n"
   ]
  },
  {
   "cell_type": "code",
   "execution_count": 1,
   "metadata": {},
   "outputs": [],
   "source": [
    "import numpy as np"
   ]
  },
  {
   "cell_type": "markdown",
   "metadata": {},
   "source": [
    "1.\tСоздайте равномерное разбиение интервала от -1.3 до 2.5 на 64 отрезка."
   ]
  },
  {
   "cell_type": "code",
   "execution_count": 2,
   "metadata": {},
   "outputs": [
    {
     "data": {
      "text/plain": [
       "array([-1.3     , -1.240625, -1.18125 , -1.121875, -1.0625  , -1.003125,\n",
       "       -0.94375 , -0.884375, -0.825   , -0.765625, -0.70625 , -0.646875,\n",
       "       -0.5875  , -0.528125, -0.46875 , -0.409375, -0.35    , -0.290625,\n",
       "       -0.23125 , -0.171875, -0.1125  , -0.053125,  0.00625 ,  0.065625,\n",
       "        0.125   ,  0.184375,  0.24375 ,  0.303125,  0.3625  ,  0.421875,\n",
       "        0.48125 ,  0.540625,  0.6     ,  0.659375,  0.71875 ,  0.778125,\n",
       "        0.8375  ,  0.896875,  0.95625 ,  1.015625,  1.075   ,  1.134375,\n",
       "        1.19375 ,  1.253125,  1.3125  ,  1.371875,  1.43125 ,  1.490625,\n",
       "        1.55    ,  1.609375,  1.66875 ,  1.728125,  1.7875  ,  1.846875,\n",
       "        1.90625 ,  1.965625,  2.025   ,  2.084375,  2.14375 ,  2.203125,\n",
       "        2.2625  ,  2.321875,  2.38125 ,  2.440625,  2.5     ])"
      ]
     },
     "execution_count": 2,
     "metadata": {},
     "output_type": "execute_result"
    }
   ],
   "source": [
    "arr2 = np.linspace(-1.3, 2.5, 65)\n",
    "arr2"
   ]
  },
  {
   "cell_type": "markdown",
   "metadata": {},
   "source": [
    "2.\tСгенерируйте numpy массив длины $3n$, заполненный циклически числами 1, 2, 3, 1, 2, 3, 1...."
   ]
  },
  {
   "cell_type": "code",
   "execution_count": 3,
   "metadata": {},
   "outputs": [
    {
     "data": {
      "text/plain": [
       "array([1, 2, 3, 1, 2, 3, 1, 2, 3, 1, 2, 3, 1, 2, 3, 1, 2, 3, 1, 2, 3, 1,\n",
       "       2, 3, 1, 2, 3, 1, 2, 3])"
      ]
     },
     "execution_count": 3,
     "metadata": {},
     "output_type": "execute_result"
    }
   ],
   "source": [
    "n = 10\n",
    "np.array([1, 2, 3] * n)"
   ]
  },
  {
   "cell_type": "markdown",
   "metadata": {},
   "source": [
    "3.\tСоздайте массив первых 10 нечетных целых чисел."
   ]
  },
  {
   "cell_type": "code",
   "execution_count": 4,
   "metadata": {},
   "outputs": [
    {
     "data": {
      "text/plain": [
       "array([ 1,  3,  5,  7,  9, 11, 13, 15, 17, 19])"
      ]
     },
     "execution_count": 4,
     "metadata": {},
     "output_type": "execute_result"
    }
   ],
   "source": [
    "number_even = 10\n",
    "arr = np.arange(1, 2 * number_even, 2)\n",
    "arr"
   ]
  },
  {
   "cell_type": "markdown",
   "metadata": {},
   "source": [
    "4.  Создайте массив нулей размера 10 x 10, а затем создайте в нём \"рамку\" из единиц по краям."
   ]
  },
  {
   "cell_type": "code",
   "execution_count": 5,
   "metadata": {},
   "outputs": [
    {
     "data": {
      "text/plain": [
       "array([[1., 1., 1., 1., 1., 1., 1., 1., 1., 1.],\n",
       "       [1., 0., 0., 0., 0., 0., 0., 0., 0., 1.],\n",
       "       [1., 0., 0., 0., 0., 0., 0., 0., 0., 1.],\n",
       "       [1., 0., 0., 0., 0., 0., 0., 0., 0., 1.],\n",
       "       [1., 0., 0., 0., 0., 0., 0., 0., 0., 1.],\n",
       "       [1., 0., 0., 0., 0., 0., 0., 0., 0., 1.],\n",
       "       [1., 0., 0., 0., 0., 0., 0., 0., 0., 1.],\n",
       "       [1., 0., 0., 0., 0., 0., 0., 0., 0., 1.],\n",
       "       [1., 0., 0., 0., 0., 0., 0., 0., 0., 1.],\n",
       "       [1., 1., 1., 1., 1., 1., 1., 1., 1., 1.]])"
      ]
     },
     "execution_count": 5,
     "metadata": {},
     "output_type": "execute_result"
    }
   ],
   "source": [
    "matrix = np.zeros((10,10))\n",
    "matrix[0, :] = 1\n",
    "matrix[9, :] = 1\n",
    "matrix[:, 0] = 1\n",
    "matrix[:, 9] = 1\n",
    "matrix"
   ]
  },
  {
   "cell_type": "markdown",
   "metadata": {},
   "source": [
    "5.  Создайте массив 8 x 8 с шахматной доской из нулей и единиц."
   ]
  },
  {
   "cell_type": "code",
   "execution_count": 6,
   "metadata": {},
   "outputs": [
    {
     "data": {
      "text/plain": [
       "array([[1., 0., 1., 0., 1., 0., 1., 0.],\n",
       "       [0., 1., 0., 1., 0., 1., 0., 1.],\n",
       "       [1., 0., 1., 0., 1., 0., 1., 0.],\n",
       "       [0., 1., 0., 1., 0., 1., 0., 1.],\n",
       "       [1., 0., 1., 0., 1., 0., 1., 0.],\n",
       "       [0., 1., 0., 1., 0., 1., 0., 1.],\n",
       "       [1., 0., 1., 0., 1., 0., 1., 0.],\n",
       "       [0., 1., 0., 1., 0., 1., 0., 1.]])"
      ]
     },
     "execution_count": 6,
     "metadata": {},
     "output_type": "execute_result"
    }
   ],
   "source": [
    "matrix = np.zeros((8,8))\n",
    "matrix[::2,::2] = 1\n",
    "matrix[1::2,1::2] = 1\n",
    "matrix"
   ]
  },
  {
   "cell_type": "markdown",
   "metadata": {},
   "source": [
    "6.  Создайте функцию, которая создает $n×n$ матрицу с $(i,j)$-элементом, равным $i+j$."
   ]
  },
  {
   "cell_type": "code",
   "execution_count": 7,
   "metadata": {},
   "outputs": [
    {
     "data": {
      "text/plain": [
       "array([[ 0.,  1.,  2.,  3.,  4.,  5.,  6.,  7.,  8.,  9.],\n",
       "       [ 1.,  2.,  3.,  4.,  5.,  6.,  7.,  8.,  9., 10.],\n",
       "       [ 2.,  3.,  4.,  5.,  6.,  7.,  8.,  9., 10., 11.],\n",
       "       [ 3.,  4.,  5.,  6.,  7.,  8.,  9., 10., 11., 12.],\n",
       "       [ 4.,  5.,  6.,  7.,  8.,  9., 10., 11., 12., 13.],\n",
       "       [ 5.,  6.,  7.,  8.,  9., 10., 11., 12., 13., 14.],\n",
       "       [ 6.,  7.,  8.,  9., 10., 11., 12., 13., 14., 15.],\n",
       "       [ 7.,  8.,  9., 10., 11., 12., 13., 14., 15., 16.],\n",
       "       [ 8.,  9., 10., 11., 12., 13., 14., 15., 16., 17.],\n",
       "       [ 9., 10., 11., 12., 13., 14., 15., 16., 17., 18.]])"
      ]
     },
     "execution_count": 7,
     "metadata": {},
     "output_type": "execute_result"
    }
   ],
   "source": [
    "n = 10\n",
    "matrix = np.zeros((n, n))\n",
    "for i in range(n):\n",
    "    for j in range(n):\n",
    "        matrix[i][j] = i + j\n",
    "matrix"
   ]
  },
  {
   "cell_type": "markdown",
   "metadata": {},
   "source": [
    "7. Примените функцию dot для перемножения вектор на вектор, матрицу на вектор и матрицу на матрицу."
   ]
  },
  {
   "cell_type": "code",
   "execution_count": 8,
   "metadata": {},
   "outputs": [
    {
     "name": "stdout",
     "output_type": "stream",
     "text": [
      "[[14]]\n",
      "[[14]\n",
      " [16]\n",
      " [36]]\n",
      "[[15 21]\n",
      " [19 26]\n",
      " [32 49]]\n"
     ]
    }
   ],
   "source": [
    "vect1 = np.array([[1, 2, 3]])\n",
    "vect2 = np.array([[1], [2], [3]])\n",
    "matrix = np.array([[1, 2, 3], [2, 1, 4], [3, 9, 5]])\n",
    "matrix2 = np.array([[1, 2], [1, 2], [4, 5]])\n",
    "print(np.dot(vect1, vect2))\n",
    "print(np.dot(matrix, vect2))\n",
    "print(np.dot(matrix, matrix2))"
   ]
  },
  {
   "cell_type": "markdown",
   "metadata": {},
   "source": [
    "8. Вычислите cos(x) и sin(x) на интервале [0,1] с шагом $0.05$, а затем объедините оба массива чисел как строки в один массив."
   ]
  },
  {
   "cell_type": "code",
   "execution_count": 9,
   "metadata": {},
   "outputs": [
    {
     "data": {
      "text/plain": [
       "[1.0,\n",
       " 0.9986152781425827,\n",
       " 0.9944649474795756,\n",
       " 0.9875605021181478,\n",
       " 0.9779210635311101,\n",
       " 0.9655733276010717,\n",
       " 0.9505514906876966,\n",
       " 0.9328971549228098,\n",
       " 0.912659212995635,\n",
       " 0.8898937127472434,\n",
       " 0.8646637019492132,\n",
       " 0.8370390536963741,\n",
       " 0.8070962728972044,\n",
       " 0.7749182843977933,\n",
       " 0.7405942033261461,\n",
       " 0.7042190882928544,\n",
       " 0.6658936781316236,\n",
       " 0.625724112908743,\n",
       " 0.5838216399741468,\n",
       " 0.5403023058681398,\n",
       " 0.0,\n",
       " 0.05260728333807213,\n",
       " 0.10506887376594912,\n",
       " 0.15723948186175024,\n",
       " 0.20897462406278547,\n",
       " 0.2601310228046501,\n",
       " 0.3105670033203749,\n",
       " 0.3601428860007191,\n",
       " 0.40872137322898616,\n",
       " 0.4561679296190457,\n",
       " 0.5023511546035125,\n",
       " 0.547143146340223,\n",
       " 0.5904198559291864,\n",
       " 0.6320614309590333,\n",
       " 0.6719525474315213,\n",
       " 0.7099827291448582,\n",
       " 0.7460466536513234,\n",
       " 0.7800444439418607,\n",
       " 0.8118819450498316,\n",
       " 0.8414709848078965]"
      ]
     },
     "execution_count": 9,
     "metadata": {},
     "output_type": "execute_result"
    }
   ],
   "source": [
    "cosinus = np.cos(np.linspace(0, 1, int(1/0.05)))\n",
    "sinus = np.sin(np.linspace(0, 1, int(1/0.05)))\n",
    "\n",
    "list(cosinus)+list(sinus)"
   ]
  },
  {
   "cell_type": "markdown",
   "metadata": {},
   "source": [
    "9. Создайте матрицу $A$ размера $3×5$ из случайных чисел с равномерным распределением на отрезке $[-1,3]$ (используйте np.random.rand)"
   ]
  },
  {
   "cell_type": "code",
   "execution_count": 10,
   "metadata": {},
   "outputs": [
    {
     "data": {
      "text/plain": [
       "array([[ 0.83681689,  2.02798789,  2.15786264,  2.65801211, -0.16882427],\n",
       "       [ 2.39282793,  0.39965013,  0.84368547,  1.85363958,  0.19685324],\n",
       "       [ 1.38155005, -0.08375878, -0.80351667,  0.52039454,  0.09817063]])"
      ]
     },
     "execution_count": 10,
     "metadata": {},
     "output_type": "execute_result"
    }
   ],
   "source": [
    "matrix = np.random.rand(3,5)*4-1\n",
    "matrix"
   ]
  },
  {
   "cell_type": "markdown",
   "metadata": {},
   "source": [
    "10. Найдите сумму всех элементов, сумму внутри строк, сумму внутри столбцов, а также среднее значение, дисперсию и стандартное отклонение чисел для каждой строки матрицы $A$. (Подобно тому, как sorted имеет необязательный аргумент key=, многие функции Numpy имеют необязательный аргумент axis=)\n"
   ]
  },
  {
   "cell_type": "code",
   "execution_count": 11,
   "metadata": {},
   "outputs": [
    {
     "name": "stdout",
     "output_type": "stream",
     "text": [
      "14.311351366650774\n",
      "[4.61119487 2.34387924 2.19803143 5.03204623 0.12619959]\n",
      "[7.51185526 5.68665635 1.11283976]\n",
      "[1.50237105 1.13733127 0.22256795]\n",
      "[1.05546094 0.72085394 0.51882012]\n",
      "[1.02735629 0.84903118 0.72029169]\n"
     ]
    }
   ],
   "source": [
    "print(matrix.sum())\n",
    "print(matrix.sum(0)) # сумма по столбцам\n",
    "print(matrix.sum(1)) # сумма по строкам\n",
    "print(matrix.mean(1)) # среднее значение по строкам\n",
    "print(matrix.var(1)) # дисперсия по строкам\n",
    "print(matrix.std(1)) # ст. откл. по строкам"
   ]
  },
  {
   "cell_type": "markdown",
   "metadata": {},
   "source": [
    "11.  Отнимите от каждого элемента матрицы $A$ среднее по строке и поделите на стандартное отклонение строки."
   ]
  },
  {
   "cell_type": "code",
   "execution_count": 12,
   "metadata": {},
   "outputs": [
    {
     "data": {
      "text/plain": [
       "array([[-0.64783188,  0.51162079,  0.63803726,  1.12486883, -1.62669499],\n",
       "       [ 1.47874035, -0.86885048, -0.34585985,  0.84367727, -1.1077073 ],\n",
       "       [ 1.60904549, -0.4252815 , -1.42454042,  0.41348052, -0.1727041 ]])"
      ]
     },
     "execution_count": 12,
     "metadata": {},
     "output_type": "execute_result"
    }
   ],
   "source": [
    "for i in range(len(matrix)):\n",
    "    matrix[i,:] -= matrix.mean(1)[i]\n",
    "    matrix[i,:] /= matrix.std(1)[i]\n",
    "matrix"
   ]
  },
  {
   "cell_type": "markdown",
   "metadata": {},
   "source": [
    "12. Отсортируйте матрицу $A$ по 3-ому столбцу, т.е. поменяйте местами строки матрицы так, чтобы 3-й столбец оказался отсортированным. Используйте для этого slicing + argsort + indexing."
   ]
  },
  {
   "cell_type": "code",
   "execution_count": 13,
   "metadata": {},
   "outputs": [
    {
     "data": {
      "text/plain": [
       "array([[ 1.60904549, -0.4252815 , -1.42454042,  0.41348052, -0.1727041 ],\n",
       "       [ 1.47874035, -0.86885048, -0.34585985,  0.84367727, -1.1077073 ],\n",
       "       [-0.64783188,  0.51162079,  0.63803726,  1.12486883, -1.62669499]])"
      ]
     },
     "execution_count": 13,
     "metadata": {},
     "output_type": "execute_result"
    }
   ],
   "source": [
    "matrix[matrix[:, 2].argsort()]"
   ]
  },
  {
   "cell_type": "markdown",
   "metadata": {},
   "source": [
    "13. Посчитайте две матрицы: $B = A^TA$ и $C = AA^T$. Что вы можете о них сказать? Какого они размера? В чём их сходство и отличие?"
   ]
  },
  {
   "cell_type": "code",
   "execution_count": 14,
   "metadata": {},
   "outputs": [
    {
     "name": "stdout",
     "output_type": "stream",
     "text": [
      "[[ 5.19538657 -2.3005458  -3.21692813  1.18416271 -0.86207534]\n",
      " [-2.3005458   1.19752134  1.23276431 -0.33336874  0.20362889]\n",
      " [-3.21692813  1.23276431  2.55602598 -0.16310559 -0.40875656]\n",
      " [ 1.18416271 -0.33336874 -0.16310559  2.14808736 -2.83577574]\n",
      " [-0.86207534  0.20362889 -0.40875656 -2.83577574  3.90297875]]\n",
      "[[ 5.          1.12775959 -1.42283545]\n",
      " [ 1.12775959  5.          3.78170757]\n",
      " [-1.42283545  3.78170757  5.        ]]\n"
     ]
    }
   ],
   "source": [
    "b = np.dot(np.transpose(matrix), matrix)\n",
    "c = np.dot(matrix, np.transpose(matrix))\n",
    "print(b)\n",
    "print(c)"
   ]
  },
  {
   "cell_type": "markdown",
   "metadata": {},
   "source": [
    "Матрицы похожи количеством измерений и типом значений, отличаются размерами и значениями внутри. Матрица В 5х5, матрица С 3х3"
   ]
  },
  {
   "cell_type": "markdown",
   "metadata": {},
   "source": [
    "14. Найдите сумму диагональных элементов матриц $B$ и $C$."
   ]
  },
  {
   "cell_type": "code",
   "execution_count": 15,
   "metadata": {},
   "outputs": [
    {
     "data": {
      "text/plain": [
       "30.0"
      ]
     },
     "execution_count": 15,
     "metadata": {},
     "output_type": "execute_result"
    }
   ],
   "source": [
    "np.sum(np.diagonal(b)) + np.sum(np.diagonal(c))"
   ]
  },
  {
   "cell_type": "markdown",
   "metadata": {},
   "source": [
    "15.\tПосчитайте детерминант и ранг матриц $A$, $B$ и $C$, посмотрите на спектр (набор собственных значений) матриц $B$ и $C$, какие выводы вы можете сделать?  \n",
    "(подсказка: используйте готовые функции из библиотеки np.linalg). \n"
   ]
  },
  {
   "cell_type": "code",
   "execution_count": 16,
   "metadata": {},
   "outputs": [
    {
     "name": "stdout",
     "output_type": "stream",
     "text": [
      "0.0\n",
      "24.875547674832614\n",
      "3\n",
      "3\n",
      "3\n",
      "[ 8.79464393e+00  5.70999901e+00  7.47558673e-16  4.95357060e-01\n",
      " -7.87807419e-16]\n",
      "[0.49535706 5.70999901 8.79464393]\n"
     ]
    }
   ],
   "source": [
    "#print(np.linalg.det(matrix)) A не квадратная, ошибка.\n",
    "print(np.linalg.det(b))\n",
    "print(np.linalg.det(c))\n",
    "print(np.linalg.matrix_rank(matrix))\n",
    "print(np.linalg.matrix_rank(b))\n",
    "print(np.linalg.matrix_rank(c))\n",
    "w_b, v_b = np.linalg.eig(b)\n",
    "w_c, v_b = np.linalg.eig(c)\n",
    "print(w_b)\n",
    "print(w_c)"
   ]
  },
  {
   "cell_type": "markdown",
   "metadata": {},
   "source": [
    "Ранги у всех матриц одинаковые, длины спектров равны размерностям матриц В и С  "
   ]
  },
  {
   "cell_type": "markdown",
   "metadata": {},
   "source": [
    "16. Численно посчитать определённый интеграл  3-мя методами:  \n",
    "a)\tПрямоугольников $\\int\\limits_a^b {f(x)dx \\approx \\Delta x\\sum\\limits_{k = 0}^N {f({x_k})} }$  \n",
    "b)\tТрапеций $\\int\\limits_a^b {f(x)dx \\approx \\frac{{\\Delta x}}{2}\\left( {f({x_0}) + 2\\sum\\limits_{k = 1}^{N - 1} {f({x_k})}  + f({x_N})} \\right)}$  \n",
    "c)\tПо правилу Симпсона  $\\int\\limits_a^b {f(x)dx \\approx \\frac{{\\Delta x}}{3}\\left( {f({x_0}) + 2\\sum\\limits_{k = 1}^{N/2 - 1} {f({x_{2k}})}  + 4\\sum\\limits_{k = 1}^{N/2} {f({x_{2k - 1}})}  + f({x_N})} \\right)}$  \n",
    "\n",
    "\n",
    "В реализации этих методов цикл for для суммирования использовать нельзя.  \n",
    "Нужно посчитать значение интеграла с некоторым шагом интегрирования (например начать с 0.1), потом уменьшить его в десять раз и ещё раз посчитать и так до тех пор пока отличие в ответах будет в 5-м знаке после запятой, т.е. чтобы ошибка была меньше 1e-5. Получить ответы для 3-х разных методов и сделать соответствующие выводы.  \n",
    "\n",
    "Далее необходимо сравнить полученные оценки с аналитическим решением (т.е. формульным, которое вы должны сами посчитать на листочке и вбить формулу-ответ).   \n",
    "\n",
    "В качестве интеграла взять два из следующих примеров:  \n",
    "- один с номером, сгенерированным случайным образом с помощью функции np.random.randint(9), в качестве seed для генератора случайных чисел взять номер своего студенческого билета. \n",
    "- второй номер - под номером 9, несобственный интерграл. Подумайте, как сделать подбор шага интегрирования адаптивным.\n",
    "\n",
    "<table width=\"80%\"\n",
    "       align=\"center\">\n",
    "    <tr>\n",
    "        <td> 0) $\\int\\limits_3^4 {\\frac{{{x^2} + 3}}{{x - 2}}dx}$ </td>\n",
    "        <td> 1) $\\int\\limits_{ - 2}^{ - 1} {\\frac{{x + 1}}{{{x^3} - {x^2}}}dx}$ </td>\n",
    "        <td> 2) $\\int\\limits_1^2 {\\frac{{{e^{1/{x^2}}}}}{{{x^3}}}dx}$ </td>\n",
    "        <td> 3) $\\int\\limits_1^e {\\frac{{\\cos (\\ln x)}}{x}dx}$ </td>\n",
    "        <td> 4) $\\int\\limits_1^e {\\frac{{dx}}{{x(1 + {{\\ln }^2}x)}}}$ </td>\n",
    "    </tr>                \n",
    "    <tr>\n",
    "        <td> 5) $\\int\\limits_0^{\\pi /2} {{{\\cos }^3}\\alpha \\;d\\alpha }$ </td>\n",
    "        <td> 6) $\\int\\limits_0^{1/3} {c{h^2}3x\\;dx}$ </td>\n",
    "        <td> 7) $\\int\\limits_2^3 {\\frac{{dy}}{{{y^2} - 2y - 8}}dy}$ </td>\n",
    "        <td> 8) $\\int\\limits_0^2 {\\frac{{2x - 1}}{{2x + 1}}dx}$ </td>\n",
    "        <td> 9) $\\int\\limits_{3/4}^2 {\\frac{{dx}}{{\\sqrt {2 + 3x - 2{x^2}} }}}$ </td>\n",
    "        </tr>\n",
    "</table>"
   ]
  },
  {
   "cell_type": "code",
   "execution_count": 17,
   "metadata": {},
   "outputs": [
    {
     "data": {
      "text/plain": [
       "1"
      ]
     },
     "execution_count": 17,
     "metadata": {},
     "output_type": "execute_result"
    }
   ],
   "source": [
    "np.random.seed(1032201709)\n",
    "np.random.randint(9)"
   ]
  },
  {
   "cell_type": "code",
   "execution_count": 18,
   "metadata": {},
   "outputs": [
    {
     "name": "stdout",
     "output_type": "stream",
     "text": [
      "Аналитическое решение интеграла 1:  0.07536414490356158\n",
      "Аналитическое решение интеграла 2:  1.1107207345395915\n"
     ]
    }
   ],
   "source": [
    "print('Аналитическое решение интеграла 1: ', -2 * np.log(3) + 4 * np.log(2) - 1/2)\n",
    "print('Аналитическое решение интеграла 2: ', np.pi/(2**(3/2)))"
   ]
  },
  {
   "cell_type": "code",
   "execution_count": 19,
   "metadata": {},
   "outputs": [
    {
     "name": "stdout",
     "output_type": "stream",
     "text": [
      "Для интеграла 1: 0.07536077471587936 Для интеграла 9: 1.1041419998928388\n",
      "Для интеграла 1: 0.07535660804921268 Для интеграла 9: 1.1041172156215913\n",
      "Для интеграла 1: 0.07535660765565484 Для интеграла 9: 1.1032101773676126\n"
     ]
    }
   ],
   "source": [
    "def func1(x):\n",
    "    return (x+1)/(x**3-x**2)\n",
    "\n",
    "def func2(x):\n",
    "    return 1/np.sqrt(2+3*x-2*x**2, where = x!=2)\n",
    "\n",
    "def solution(func,a, b, dx, method):\n",
    "    n = int((b-a) / dx)\n",
    "    xx = np.linspace(a, b, n)\n",
    "    if method == 'rectangular':\n",
    "        return dx*np.sum(func(xx))\n",
    "    elif method == 'trapezoid':\n",
    "        return dx/2*(func(xx[0]) + 2*np.sum(func(xx[1:-1])) + func(xx[-1]))\n",
    "    elif method == 'simpson':\n",
    "        return dx/3*(func(xx[0]) + 2*np.sum(func(xx[2:-1:2])) + 4*np.sum(func(xx[1:-2:2])) + func(xx[-1]))\n",
    "    else:\n",
    "        return 'Неверный метод'\n",
    "    \n",
    "print('Для интеграла 1:', solution(func1, -2, -1, 0.0001, 'rectangular'), 'Для интеграла 9:', solution(func2, 3/4, 2, 0.0001, 'rectangular') )\n",
    "print('Для интеграла 1:', solution(func1, -2, -1, 0.0001, 'trapezoid'), 'Для интеграла 9:', solution(func2, 3/4, 2, 0.0001, 'trapezoid') )\n",
    "print('Для интеграла 1:', solution(func1, -2, -1, 0.0001, 'simpson'), 'Для интеграла 9:', solution(func2, 3/4, 2, 0.0001, 'simpson') )"
   ]
  },
  {
   "cell_type": "markdown",
   "metadata": {},
   "source": [
    "Чем меньше dx, тем точнее становятся методы."
   ]
  }
 ],
 "metadata": {
  "kernelspec": {
   "display_name": "Python 3 (ipykernel)",
   "language": "python",
   "name": "python3"
  },
  "language_info": {
   "codemirror_mode": {
    "name": "ipython",
    "version": 3
   },
   "file_extension": ".py",
   "mimetype": "text/x-python",
   "name": "python",
   "nbconvert_exporter": "python",
   "pygments_lexer": "ipython3",
   "version": "3.11.3"
  }
 },
 "nbformat": 4,
 "nbformat_minor": 4
}
